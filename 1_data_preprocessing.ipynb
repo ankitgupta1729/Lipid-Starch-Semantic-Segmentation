{
 "cells": [
  {
   "cell_type": "code",
   "execution_count": 144,
   "id": "30a1c16f",
   "metadata": {},
   "outputs": [],
   "source": [
    "import warnings\n",
    "import os\n",
    "import shutil\n",
    "warnings.filterwarnings('ignore')"
   ]
  },
  {
   "cell_type": "code",
   "execution_count": 145,
   "id": "f38aed5a",
   "metadata": {},
   "outputs": [
    {
     "data": {
      "text/plain": [
       "'/home/ankit/Desktop/ml/Lipid-Starch-Semantic-Segmentation'"
      ]
     },
     "execution_count": 145,
     "metadata": {},
     "output_type": "execute_result"
    }
   ],
   "source": [
    "os.getcwd()"
   ]
  },
  {
   "cell_type": "code",
   "execution_count": 146,
   "id": "d4f658de",
   "metadata": {},
   "outputs": [],
   "source": [
    "path=os.path.join(os.getcwd(),'temp_images/')\n",
    "if os.path.isdir(path):\n",
    "    shutil.rmtree(path)\n",
    "path=os.path.join(os.getcwd(),'masked_images/')\n",
    "if os.path.isdir(path):\n",
    "    shutil.rmtree(path)\n",
    "path=os.path.join(os.getcwd(),'original_images/')\n",
    "if os.path.isdir(path):\n",
    "    shutil.rmtree(path)"
   ]
  },
  {
   "cell_type": "code",
   "execution_count": 147,
   "id": "def4985d",
   "metadata": {},
   "outputs": [],
   "source": [
    "os.makedirs('temp_images')\n",
    "os.makedirs('masked_images')\n",
    "os.makedirs('original_images')"
   ]
  },
  {
   "cell_type": "code",
   "execution_count": 148,
   "id": "f7134cb9",
   "metadata": {},
   "outputs": [
    {
     "name": "stdout",
     "output_type": "stream",
     "text": [
      "image: 19.json\n"
     ]
    },
    {
     "name": "stderr",
     "output_type": "stream",
     "text": [
      "2024-07-22 17:12:14,970 [\u001b[1m\u001b[97mINFO   \u001b[0m] \u001b[36mexport_json\u001b[0m:\u001b[36mmain\u001b[0m:\u001b[36m66\u001b[0m- \u001b[1m\u001b[97mSaved to: temp_images/19\u001b[0m\n"
     ]
    },
    {
     "name": "stdout",
     "output_type": "stream",
     "text": [
      "image: B1.json\n"
     ]
    },
    {
     "name": "stderr",
     "output_type": "stream",
     "text": [
      "Traceback (most recent call last):\n",
      "  File \"/home/ankit/Desktop/ml/Tensorflow_ENV/tfenv/bin/labelme_export_json\", line 8, in <module>\n",
      "    sys.exit(main())\n",
      "  File \"/home/ankit/Desktop/ml/Tensorflow_ENV/tfenv/lib/python3.9/site-packages/labelme/cli/export_json.py\", line 48, in main\n",
      "    lbl, _ = utils.shapes_to_label(img.shape, data[\"shapes\"], label_name_to_value)\n",
      "  File \"/home/ankit/Desktop/ml/Tensorflow_ENV/tfenv/lib/python3.9/site-packages/labelme/utils/shape.py\", line 71, in shapes_to_label\n",
      "    mask = shape_to_mask(img_shape[:2], points, shape_type)\n",
      "  File \"/home/ankit/Desktop/ml/Tensorflow_ENV/tfenv/lib/python3.9/site-packages/labelme/utils/shape.py\", line 45, in shape_to_mask\n",
      "    assert len(xy) > 2, \"Polygon must have points more than 2\"\n",
      "AssertionError: Polygon must have points more than 2\n"
     ]
    },
    {
     "name": "stdout",
     "output_type": "stream",
     "text": [
      "image: B20.json\n"
     ]
    },
    {
     "name": "stderr",
     "output_type": "stream",
     "text": [
      "Traceback (most recent call last):\n",
      "  File \"/home/ankit/Desktop/ml/Tensorflow_ENV/tfenv/bin/labelme_export_json\", line 8, in <module>\n",
      "    sys.exit(main())\n",
      "  File \"/home/ankit/Desktop/ml/Tensorflow_ENV/tfenv/lib/python3.9/site-packages/labelme/cli/export_json.py\", line 48, in main\n",
      "    lbl, _ = utils.shapes_to_label(img.shape, data[\"shapes\"], label_name_to_value)\n",
      "  File \"/home/ankit/Desktop/ml/Tensorflow_ENV/tfenv/lib/python3.9/site-packages/labelme/utils/shape.py\", line 71, in shapes_to_label\n",
      "    mask = shape_to_mask(img_shape[:2], points, shape_type)\n",
      "  File \"/home/ankit/Desktop/ml/Tensorflow_ENV/tfenv/lib/python3.9/site-packages/labelme/utils/shape.py\", line 45, in shape_to_mask\n",
      "    assert len(xy) > 2, \"Polygon must have points more than 2\"\n",
      "AssertionError: Polygon must have points more than 2\n"
     ]
    },
    {
     "name": "stdout",
     "output_type": "stream",
     "text": [
      "image: 6.json\n"
     ]
    },
    {
     "name": "stderr",
     "output_type": "stream",
     "text": [
      "2024-07-22 17:12:19,800 [\u001b[1m\u001b[97mINFO   \u001b[0m] \u001b[36mexport_json\u001b[0m:\u001b[36mmain\u001b[0m:\u001b[36m66\u001b[0m- \u001b[1m\u001b[97mSaved to: temp_images/6\u001b[0m\n"
     ]
    },
    {
     "name": "stdout",
     "output_type": "stream",
     "text": [
      "image: 17.json\n"
     ]
    },
    {
     "name": "stderr",
     "output_type": "stream",
     "text": [
      "2024-07-22 17:12:23,165 [\u001b[1m\u001b[97mINFO   \u001b[0m] \u001b[36mexport_json\u001b[0m:\u001b[36mmain\u001b[0m:\u001b[36m66\u001b[0m- \u001b[1m\u001b[97mSaved to: temp_images/17\u001b[0m\n"
     ]
    },
    {
     "name": "stdout",
     "output_type": "stream",
     "text": [
      "image: 11.json\n"
     ]
    },
    {
     "name": "stderr",
     "output_type": "stream",
     "text": [
      "2024-07-22 17:12:26,692 [\u001b[1m\u001b[97mINFO   \u001b[0m] \u001b[36mexport_json\u001b[0m:\u001b[36mmain\u001b[0m:\u001b[36m66\u001b[0m- \u001b[1m\u001b[97mSaved to: temp_images/11\u001b[0m\n"
     ]
    },
    {
     "name": "stdout",
     "output_type": "stream",
     "text": [
      "image: B18.json\n"
     ]
    },
    {
     "name": "stderr",
     "output_type": "stream",
     "text": [
      "Traceback (most recent call last):\n",
      "  File \"/home/ankit/Desktop/ml/Tensorflow_ENV/tfenv/bin/labelme_export_json\", line 8, in <module>\n",
      "    sys.exit(main())\n",
      "  File \"/home/ankit/Desktop/ml/Tensorflow_ENV/tfenv/lib/python3.9/site-packages/labelme/cli/export_json.py\", line 48, in main\n",
      "    lbl, _ = utils.shapes_to_label(img.shape, data[\"shapes\"], label_name_to_value)\n",
      "  File \"/home/ankit/Desktop/ml/Tensorflow_ENV/tfenv/lib/python3.9/site-packages/labelme/utils/shape.py\", line 71, in shapes_to_label\n",
      "    mask = shape_to_mask(img_shape[:2], points, shape_type)\n",
      "  File \"/home/ankit/Desktop/ml/Tensorflow_ENV/tfenv/lib/python3.9/site-packages/labelme/utils/shape.py\", line 45, in shape_to_mask\n",
      "    assert len(xy) > 2, \"Polygon must have points more than 2\"\n",
      "AssertionError: Polygon must have points more than 2\n"
     ]
    },
    {
     "name": "stdout",
     "output_type": "stream",
     "text": [
      "image: A7.json\n"
     ]
    },
    {
     "name": "stderr",
     "output_type": "stream",
     "text": [
      "Traceback (most recent call last):\n",
      "  File \"/home/ankit/Desktop/ml/Tensorflow_ENV/tfenv/bin/labelme_export_json\", line 8, in <module>\n",
      "    sys.exit(main())\n",
      "  File \"/home/ankit/Desktop/ml/Tensorflow_ENV/tfenv/lib/python3.9/site-packages/labelme/cli/export_json.py\", line 48, in main\n",
      "    lbl, _ = utils.shapes_to_label(img.shape, data[\"shapes\"], label_name_to_value)\n",
      "  File \"/home/ankit/Desktop/ml/Tensorflow_ENV/tfenv/lib/python3.9/site-packages/labelme/utils/shape.py\", line 71, in shapes_to_label\n",
      "    mask = shape_to_mask(img_shape[:2], points, shape_type)\n",
      "  File \"/home/ankit/Desktop/ml/Tensorflow_ENV/tfenv/lib/python3.9/site-packages/labelme/utils/shape.py\", line 45, in shape_to_mask\n",
      "    assert len(xy) > 2, \"Polygon must have points more than 2\"\n",
      "AssertionError: Polygon must have points more than 2\n"
     ]
    },
    {
     "name": "stdout",
     "output_type": "stream",
     "text": [
      "image: B5.json\n"
     ]
    },
    {
     "name": "stderr",
     "output_type": "stream",
     "text": [
      "Traceback (most recent call last):\n",
      "  File \"/home/ankit/Desktop/ml/Tensorflow_ENV/tfenv/bin/labelme_export_json\", line 8, in <module>\n",
      "    sys.exit(main())\n",
      "  File \"/home/ankit/Desktop/ml/Tensorflow_ENV/tfenv/lib/python3.9/site-packages/labelme/cli/export_json.py\", line 48, in main\n",
      "    lbl, _ = utils.shapes_to_label(img.shape, data[\"shapes\"], label_name_to_value)\n",
      "  File \"/home/ankit/Desktop/ml/Tensorflow_ENV/tfenv/lib/python3.9/site-packages/labelme/utils/shape.py\", line 71, in shapes_to_label\n",
      "    mask = shape_to_mask(img_shape[:2], points, shape_type)\n",
      "  File \"/home/ankit/Desktop/ml/Tensorflow_ENV/tfenv/lib/python3.9/site-packages/labelme/utils/shape.py\", line 45, in shape_to_mask\n",
      "    assert len(xy) > 2, \"Polygon must have points more than 2\"\n",
      "AssertionError: Polygon must have points more than 2\n"
     ]
    },
    {
     "name": "stdout",
     "output_type": "stream",
     "text": [
      "image: 8.json\n"
     ]
    },
    {
     "name": "stderr",
     "output_type": "stream",
     "text": [
      "2024-07-22 17:12:32,101 [\u001b[1m\u001b[97mINFO   \u001b[0m] \u001b[36mexport_json\u001b[0m:\u001b[36mmain\u001b[0m:\u001b[36m66\u001b[0m- \u001b[1m\u001b[97mSaved to: temp_images/8\u001b[0m\n"
     ]
    },
    {
     "name": "stdout",
     "output_type": "stream",
     "text": [
      "image: A2.json\n"
     ]
    },
    {
     "name": "stderr",
     "output_type": "stream",
     "text": [
      "2024-07-22 17:12:33,347 [\u001b[1m\u001b[97mINFO   \u001b[0m] \u001b[36mexport_json\u001b[0m:\u001b[36mmain\u001b[0m:\u001b[36m66\u001b[0m- \u001b[1m\u001b[97mSaved to: temp_images/A2\u001b[0m\n"
     ]
    },
    {
     "name": "stdout",
     "output_type": "stream",
     "text": [
      "image: A16.json\n"
     ]
    },
    {
     "name": "stderr",
     "output_type": "stream",
     "text": [
      "Traceback (most recent call last):\n",
      "  File \"/home/ankit/Desktop/ml/Tensorflow_ENV/tfenv/bin/labelme_export_json\", line 8, in <module>\n",
      "    sys.exit(main())\n",
      "  File \"/home/ankit/Desktop/ml/Tensorflow_ENV/tfenv/lib/python3.9/site-packages/labelme/cli/export_json.py\", line 48, in main\n",
      "    lbl, _ = utils.shapes_to_label(img.shape, data[\"shapes\"], label_name_to_value)\n",
      "  File \"/home/ankit/Desktop/ml/Tensorflow_ENV/tfenv/lib/python3.9/site-packages/labelme/utils/shape.py\", line 71, in shapes_to_label\n",
      "    mask = shape_to_mask(img_shape[:2], points, shape_type)\n",
      "  File \"/home/ankit/Desktop/ml/Tensorflow_ENV/tfenv/lib/python3.9/site-packages/labelme/utils/shape.py\", line 45, in shape_to_mask\n",
      "    assert len(xy) > 2, \"Polygon must have points more than 2\"\n",
      "AssertionError: Polygon must have points more than 2\n"
     ]
    },
    {
     "name": "stdout",
     "output_type": "stream",
     "text": [
      "image: A1.json\n"
     ]
    },
    {
     "name": "stderr",
     "output_type": "stream",
     "text": [
      "2024-07-22 17:12:35,673 [\u001b[1m\u001b[97mINFO   \u001b[0m] \u001b[36mexport_json\u001b[0m:\u001b[36mmain\u001b[0m:\u001b[36m66\u001b[0m- \u001b[1m\u001b[97mSaved to: temp_images/A1\u001b[0m\n"
     ]
    },
    {
     "name": "stdout",
     "output_type": "stream",
     "text": [
      "image: A19.json\n"
     ]
    },
    {
     "name": "stderr",
     "output_type": "stream",
     "text": [
      "Traceback (most recent call last):\n",
      "  File \"/home/ankit/Desktop/ml/Tensorflow_ENV/tfenv/bin/labelme_export_json\", line 8, in <module>\n",
      "    sys.exit(main())\n",
      "  File \"/home/ankit/Desktop/ml/Tensorflow_ENV/tfenv/lib/python3.9/site-packages/labelme/cli/export_json.py\", line 48, in main\n",
      "    lbl, _ = utils.shapes_to_label(img.shape, data[\"shapes\"], label_name_to_value)\n",
      "  File \"/home/ankit/Desktop/ml/Tensorflow_ENV/tfenv/lib/python3.9/site-packages/labelme/utils/shape.py\", line 71, in shapes_to_label\n",
      "    mask = shape_to_mask(img_shape[:2], points, shape_type)\n",
      "  File \"/home/ankit/Desktop/ml/Tensorflow_ENV/tfenv/lib/python3.9/site-packages/labelme/utils/shape.py\", line 45, in shape_to_mask\n",
      "    assert len(xy) > 2, \"Polygon must have points more than 2\"\n",
      "AssertionError: Polygon must have points more than 2\n"
     ]
    },
    {
     "name": "stdout",
     "output_type": "stream",
     "text": [
      "image: 13.json\n"
     ]
    },
    {
     "name": "stderr",
     "output_type": "stream",
     "text": [
      "2024-07-22 17:12:41,403 [\u001b[1m\u001b[97mINFO   \u001b[0m] \u001b[36mexport_json\u001b[0m:\u001b[36mmain\u001b[0m:\u001b[36m66\u001b[0m- \u001b[1m\u001b[97mSaved to: temp_images/13\u001b[0m\n"
     ]
    },
    {
     "name": "stdout",
     "output_type": "stream",
     "text": [
      "image: 10.json\n"
     ]
    },
    {
     "name": "stderr",
     "output_type": "stream",
     "text": [
      "2024-07-22 17:12:44,664 [\u001b[1m\u001b[97mINFO   \u001b[0m] \u001b[36mexport_json\u001b[0m:\u001b[36mmain\u001b[0m:\u001b[36m66\u001b[0m- \u001b[1m\u001b[97mSaved to: temp_images/10\u001b[0m\n"
     ]
    },
    {
     "name": "stdout",
     "output_type": "stream",
     "text": [
      "image: B15.json\n"
     ]
    },
    {
     "name": "stderr",
     "output_type": "stream",
     "text": [
      "Traceback (most recent call last):\n",
      "  File \"/home/ankit/Desktop/ml/Tensorflow_ENV/tfenv/bin/labelme_export_json\", line 8, in <module>\n",
      "    sys.exit(main())\n",
      "  File \"/home/ankit/Desktop/ml/Tensorflow_ENV/tfenv/lib/python3.9/site-packages/labelme/cli/export_json.py\", line 48, in main\n",
      "    lbl, _ = utils.shapes_to_label(img.shape, data[\"shapes\"], label_name_to_value)\n",
      "  File \"/home/ankit/Desktop/ml/Tensorflow_ENV/tfenv/lib/python3.9/site-packages/labelme/utils/shape.py\", line 71, in shapes_to_label\n",
      "    mask = shape_to_mask(img_shape[:2], points, shape_type)\n",
      "  File \"/home/ankit/Desktop/ml/Tensorflow_ENV/tfenv/lib/python3.9/site-packages/labelme/utils/shape.py\", line 45, in shape_to_mask\n",
      "    assert len(xy) > 2, \"Polygon must have points more than 2\"\n",
      "AssertionError: Polygon must have points more than 2\n"
     ]
    },
    {
     "name": "stdout",
     "output_type": "stream",
     "text": [
      "image: 12.json\n"
     ]
    },
    {
     "name": "stderr",
     "output_type": "stream",
     "text": [
      "2024-07-22 17:12:48,294 [\u001b[1m\u001b[97mINFO   \u001b[0m] \u001b[36mexport_json\u001b[0m:\u001b[36mmain\u001b[0m:\u001b[36m66\u001b[0m- \u001b[1m\u001b[97mSaved to: temp_images/12\u001b[0m\n"
     ]
    },
    {
     "name": "stdout",
     "output_type": "stream",
     "text": [
      "image: A9.json\n"
     ]
    },
    {
     "name": "stderr",
     "output_type": "stream",
     "text": [
      "Traceback (most recent call last):\n",
      "  File \"/home/ankit/Desktop/ml/Tensorflow_ENV/tfenv/bin/labelme_export_json\", line 8, in <module>\n",
      "    sys.exit(main())\n",
      "  File \"/home/ankit/Desktop/ml/Tensorflow_ENV/tfenv/lib/python3.9/site-packages/labelme/cli/export_json.py\", line 48, in main\n",
      "    lbl, _ = utils.shapes_to_label(img.shape, data[\"shapes\"], label_name_to_value)\n",
      "  File \"/home/ankit/Desktop/ml/Tensorflow_ENV/tfenv/lib/python3.9/site-packages/labelme/utils/shape.py\", line 71, in shapes_to_label\n",
      "    mask = shape_to_mask(img_shape[:2], points, shape_type)\n",
      "  File \"/home/ankit/Desktop/ml/Tensorflow_ENV/tfenv/lib/python3.9/site-packages/labelme/utils/shape.py\", line 45, in shape_to_mask\n",
      "    assert len(xy) > 2, \"Polygon must have points more than 2\"\n",
      "AssertionError: Polygon must have points more than 2\n"
     ]
    },
    {
     "name": "stdout",
     "output_type": "stream",
     "text": [
      "image: 20.json\n"
     ]
    },
    {
     "name": "stderr",
     "output_type": "stream",
     "text": [
      "2024-07-22 17:12:51,044 [\u001b[1m\u001b[97mINFO   \u001b[0m] \u001b[36mexport_json\u001b[0m:\u001b[36mmain\u001b[0m:\u001b[36m66\u001b[0m- \u001b[1m\u001b[97mSaved to: temp_images/20\u001b[0m\n"
     ]
    },
    {
     "name": "stdout",
     "output_type": "stream",
     "text": [
      "image: 1.json\n"
     ]
    },
    {
     "name": "stderr",
     "output_type": "stream",
     "text": [
      "2024-07-22 17:12:53,117 [\u001b[1m\u001b[97mINFO   \u001b[0m] \u001b[36mexport_json\u001b[0m:\u001b[36mmain\u001b[0m:\u001b[36m66\u001b[0m- \u001b[1m\u001b[97mSaved to: temp_images/1\u001b[0m\n"
     ]
    },
    {
     "name": "stdout",
     "output_type": "stream",
     "text": [
      "image: 7.json\n"
     ]
    },
    {
     "name": "stderr",
     "output_type": "stream",
     "text": [
      "2024-07-22 17:12:55,295 [\u001b[1m\u001b[97mINFO   \u001b[0m] \u001b[36mexport_json\u001b[0m:\u001b[36mmain\u001b[0m:\u001b[36m66\u001b[0m- \u001b[1m\u001b[97mSaved to: temp_images/7\u001b[0m\n"
     ]
    },
    {
     "name": "stdout",
     "output_type": "stream",
     "text": [
      "image: 9.json\n"
     ]
    },
    {
     "name": "stderr",
     "output_type": "stream",
     "text": [
      "2024-07-22 17:12:58,542 [\u001b[1m\u001b[97mINFO   \u001b[0m] \u001b[36mexport_json\u001b[0m:\u001b[36mmain\u001b[0m:\u001b[36m66\u001b[0m- \u001b[1m\u001b[97mSaved to: temp_images/9\u001b[0m\n"
     ]
    },
    {
     "name": "stdout",
     "output_type": "stream",
     "text": [
      "image: A18.json\n"
     ]
    },
    {
     "name": "stderr",
     "output_type": "stream",
     "text": [
      "Traceback (most recent call last):\n",
      "  File \"/home/ankit/Desktop/ml/Tensorflow_ENV/tfenv/bin/labelme_export_json\", line 8, in <module>\n",
      "    sys.exit(main())\n",
      "  File \"/home/ankit/Desktop/ml/Tensorflow_ENV/tfenv/lib/python3.9/site-packages/labelme/cli/export_json.py\", line 48, in main\n",
      "    lbl, _ = utils.shapes_to_label(img.shape, data[\"shapes\"], label_name_to_value)\n",
      "  File \"/home/ankit/Desktop/ml/Tensorflow_ENV/tfenv/lib/python3.9/site-packages/labelme/utils/shape.py\", line 71, in shapes_to_label\n",
      "    mask = shape_to_mask(img_shape[:2], points, shape_type)\n",
      "  File \"/home/ankit/Desktop/ml/Tensorflow_ENV/tfenv/lib/python3.9/site-packages/labelme/utils/shape.py\", line 45, in shape_to_mask\n",
      "    assert len(xy) > 2, \"Polygon must have points more than 2\"\n",
      "AssertionError: Polygon must have points more than 2\n"
     ]
    },
    {
     "name": "stdout",
     "output_type": "stream",
     "text": [
      "image: 15.json\n"
     ]
    },
    {
     "name": "stderr",
     "output_type": "stream",
     "text": [
      "2024-07-22 17:13:03,300 [\u001b[1m\u001b[97mINFO   \u001b[0m] \u001b[36mexport_json\u001b[0m:\u001b[36mmain\u001b[0m:\u001b[36m66\u001b[0m- \u001b[1m\u001b[97mSaved to: temp_images/15\u001b[0m\n"
     ]
    },
    {
     "name": "stdout",
     "output_type": "stream",
     "text": [
      "image: 14.json\n"
     ]
    },
    {
     "name": "stderr",
     "output_type": "stream",
     "text": [
      "2024-07-22 17:13:05,642 [\u001b[1m\u001b[97mINFO   \u001b[0m] \u001b[36mexport_json\u001b[0m:\u001b[36mmain\u001b[0m:\u001b[36m66\u001b[0m- \u001b[1m\u001b[97mSaved to: temp_images/14\u001b[0m\n"
     ]
    },
    {
     "name": "stdout",
     "output_type": "stream",
     "text": [
      "image: A4.json\n"
     ]
    },
    {
     "name": "stderr",
     "output_type": "stream",
     "text": [
      "2024-07-22 17:13:06,973 [\u001b[1m\u001b[97mINFO   \u001b[0m] \u001b[36mexport_json\u001b[0m:\u001b[36mmain\u001b[0m:\u001b[36m66\u001b[0m- \u001b[1m\u001b[97mSaved to: temp_images/A4\u001b[0m\n"
     ]
    },
    {
     "name": "stdout",
     "output_type": "stream",
     "text": [
      "image: 22.json\n"
     ]
    },
    {
     "name": "stderr",
     "output_type": "stream",
     "text": [
      "2024-07-22 17:13:08,908 [\u001b[1m\u001b[97mINFO   \u001b[0m] \u001b[36mexport_json\u001b[0m:\u001b[36mmain\u001b[0m:\u001b[36m66\u001b[0m- \u001b[1m\u001b[97mSaved to: temp_images/22\u001b[0m\n"
     ]
    },
    {
     "name": "stdout",
     "output_type": "stream",
     "text": [
      "image: B9.json\n"
     ]
    },
    {
     "name": "stderr",
     "output_type": "stream",
     "text": [
      "Traceback (most recent call last):\n",
      "  File \"/home/ankit/Desktop/ml/Tensorflow_ENV/tfenv/bin/labelme_export_json\", line 8, in <module>\n",
      "    sys.exit(main())\n",
      "  File \"/home/ankit/Desktop/ml/Tensorflow_ENV/tfenv/lib/python3.9/site-packages/labelme/cli/export_json.py\", line 48, in main\n",
      "    lbl, _ = utils.shapes_to_label(img.shape, data[\"shapes\"], label_name_to_value)\n",
      "  File \"/home/ankit/Desktop/ml/Tensorflow_ENV/tfenv/lib/python3.9/site-packages/labelme/utils/shape.py\", line 71, in shapes_to_label\n",
      "    mask = shape_to_mask(img_shape[:2], points, shape_type)\n",
      "  File \"/home/ankit/Desktop/ml/Tensorflow_ENV/tfenv/lib/python3.9/site-packages/labelme/utils/shape.py\", line 45, in shape_to_mask\n",
      "    assert len(xy) > 2, \"Polygon must have points more than 2\"\n",
      "AssertionError: Polygon must have points more than 2\n"
     ]
    },
    {
     "name": "stdout",
     "output_type": "stream",
     "text": [
      "image: B17.json\n"
     ]
    },
    {
     "name": "stderr",
     "output_type": "stream",
     "text": [
      "Traceback (most recent call last):\n",
      "  File \"/home/ankit/Desktop/ml/Tensorflow_ENV/tfenv/bin/labelme_export_json\", line 8, in <module>\n",
      "    sys.exit(main())\n",
      "  File \"/home/ankit/Desktop/ml/Tensorflow_ENV/tfenv/lib/python3.9/site-packages/labelme/cli/export_json.py\", line 48, in main\n",
      "    lbl, _ = utils.shapes_to_label(img.shape, data[\"shapes\"], label_name_to_value)\n",
      "  File \"/home/ankit/Desktop/ml/Tensorflow_ENV/tfenv/lib/python3.9/site-packages/labelme/utils/shape.py\", line 71, in shapes_to_label\n",
      "    mask = shape_to_mask(img_shape[:2], points, shape_type)\n",
      "  File \"/home/ankit/Desktop/ml/Tensorflow_ENV/tfenv/lib/python3.9/site-packages/labelme/utils/shape.py\", line 45, in shape_to_mask\n",
      "    assert len(xy) > 2, \"Polygon must have points more than 2\"\n",
      "AssertionError: Polygon must have points more than 2\n"
     ]
    },
    {
     "name": "stdout",
     "output_type": "stream",
     "text": [
      "image: B10.json\n"
     ]
    },
    {
     "name": "stderr",
     "output_type": "stream",
     "text": [
      "Traceback (most recent call last):\n",
      "  File \"/home/ankit/Desktop/ml/Tensorflow_ENV/tfenv/bin/labelme_export_json\", line 8, in <module>\n",
      "    sys.exit(main())\n",
      "  File \"/home/ankit/Desktop/ml/Tensorflow_ENV/tfenv/lib/python3.9/site-packages/labelme/cli/export_json.py\", line 48, in main\n",
      "    lbl, _ = utils.shapes_to_label(img.shape, data[\"shapes\"], label_name_to_value)\n",
      "  File \"/home/ankit/Desktop/ml/Tensorflow_ENV/tfenv/lib/python3.9/site-packages/labelme/utils/shape.py\", line 71, in shapes_to_label\n",
      "    mask = shape_to_mask(img_shape[:2], points, shape_type)\n",
      "  File \"/home/ankit/Desktop/ml/Tensorflow_ENV/tfenv/lib/python3.9/site-packages/labelme/utils/shape.py\", line 45, in shape_to_mask\n",
      "    assert len(xy) > 2, \"Polygon must have points more than 2\"\n",
      "AssertionError: Polygon must have points more than 2\n"
     ]
    },
    {
     "name": "stdout",
     "output_type": "stream",
     "text": [
      "image: A6.json\n"
     ]
    },
    {
     "name": "stderr",
     "output_type": "stream",
     "text": [
      "2024-07-22 17:13:17,150 [\u001b[1m\u001b[97mINFO   \u001b[0m] \u001b[36mexport_json\u001b[0m:\u001b[36mmain\u001b[0m:\u001b[36m66\u001b[0m- \u001b[1m\u001b[97mSaved to: temp_images/A6\u001b[0m\n"
     ]
    },
    {
     "name": "stdout",
     "output_type": "stream",
     "text": [
      "image: 4.json\n"
     ]
    },
    {
     "name": "stderr",
     "output_type": "stream",
     "text": [
      "Traceback (most recent call last):\n",
      "  File \"/home/ankit/Desktop/ml/Tensorflow_ENV/tfenv/bin/labelme_export_json\", line 8, in <module>\n",
      "    sys.exit(main())\n",
      "  File \"/home/ankit/Desktop/ml/Tensorflow_ENV/tfenv/lib/python3.9/site-packages/labelme/cli/export_json.py\", line 48, in main\n",
      "    lbl, _ = utils.shapes_to_label(img.shape, data[\"shapes\"], label_name_to_value)\n",
      "  File \"/home/ankit/Desktop/ml/Tensorflow_ENV/tfenv/lib/python3.9/site-packages/labelme/utils/shape.py\", line 71, in shapes_to_label\n",
      "    mask = shape_to_mask(img_shape[:2], points, shape_type)\n",
      "  File \"/home/ankit/Desktop/ml/Tensorflow_ENV/tfenv/lib/python3.9/site-packages/labelme/utils/shape.py\", line 45, in shape_to_mask\n",
      "    assert len(xy) > 2, \"Polygon must have points more than 2\"\n",
      "AssertionError: Polygon must have points more than 2\n"
     ]
    },
    {
     "name": "stdout",
     "output_type": "stream",
     "text": [
      "image: B16.json\n"
     ]
    },
    {
     "name": "stderr",
     "output_type": "stream",
     "text": [
      "Traceback (most recent call last):\n",
      "  File \"/home/ankit/Desktop/ml/Tensorflow_ENV/tfenv/bin/labelme_export_json\", line 8, in <module>\n",
      "    sys.exit(main())\n",
      "  File \"/home/ankit/Desktop/ml/Tensorflow_ENV/tfenv/lib/python3.9/site-packages/labelme/cli/export_json.py\", line 48, in main\n",
      "    lbl, _ = utils.shapes_to_label(img.shape, data[\"shapes\"], label_name_to_value)\n",
      "  File \"/home/ankit/Desktop/ml/Tensorflow_ENV/tfenv/lib/python3.9/site-packages/labelme/utils/shape.py\", line 71, in shapes_to_label\n",
      "    mask = shape_to_mask(img_shape[:2], points, shape_type)\n",
      "  File \"/home/ankit/Desktop/ml/Tensorflow_ENV/tfenv/lib/python3.9/site-packages/labelme/utils/shape.py\", line 45, in shape_to_mask\n",
      "    assert len(xy) > 2, \"Polygon must have points more than 2\"\n",
      "AssertionError: Polygon must have points more than 2\n"
     ]
    },
    {
     "name": "stdout",
     "output_type": "stream",
     "text": [
      "image: 2.json\n"
     ]
    },
    {
     "name": "stderr",
     "output_type": "stream",
     "text": [
      "2024-07-22 17:13:23,803 [\u001b[1m\u001b[97mINFO   \u001b[0m] \u001b[36mexport_json\u001b[0m:\u001b[36mmain\u001b[0m:\u001b[36m66\u001b[0m- \u001b[1m\u001b[97mSaved to: temp_images/2\u001b[0m\n"
     ]
    },
    {
     "name": "stdout",
     "output_type": "stream",
     "text": [
      "image: B6.json\n"
     ]
    },
    {
     "name": "stderr",
     "output_type": "stream",
     "text": [
      "Traceback (most recent call last):\n",
      "  File \"/home/ankit/Desktop/ml/Tensorflow_ENV/tfenv/bin/labelme_export_json\", line 8, in <module>\n",
      "    sys.exit(main())\n",
      "  File \"/home/ankit/Desktop/ml/Tensorflow_ENV/tfenv/lib/python3.9/site-packages/labelme/cli/export_json.py\", line 48, in main\n",
      "    lbl, _ = utils.shapes_to_label(img.shape, data[\"shapes\"], label_name_to_value)\n",
      "  File \"/home/ankit/Desktop/ml/Tensorflow_ENV/tfenv/lib/python3.9/site-packages/labelme/utils/shape.py\", line 71, in shapes_to_label\n",
      "    mask = shape_to_mask(img_shape[:2], points, shape_type)\n",
      "  File \"/home/ankit/Desktop/ml/Tensorflow_ENV/tfenv/lib/python3.9/site-packages/labelme/utils/shape.py\", line 45, in shape_to_mask\n",
      "    assert len(xy) > 2, \"Polygon must have points more than 2\"\n",
      "AssertionError: Polygon must have points more than 2\n"
     ]
    },
    {
     "name": "stdout",
     "output_type": "stream",
     "text": [
      "image: A17.json\n"
     ]
    },
    {
     "name": "stderr",
     "output_type": "stream",
     "text": [
      "Traceback (most recent call last):\n",
      "  File \"/home/ankit/Desktop/ml/Tensorflow_ENV/tfenv/bin/labelme_export_json\", line 8, in <module>\n",
      "    sys.exit(main())\n",
      "  File \"/home/ankit/Desktop/ml/Tensorflow_ENV/tfenv/lib/python3.9/site-packages/labelme/cli/export_json.py\", line 48, in main\n",
      "    lbl, _ = utils.shapes_to_label(img.shape, data[\"shapes\"], label_name_to_value)\n",
      "  File \"/home/ankit/Desktop/ml/Tensorflow_ENV/tfenv/lib/python3.9/site-packages/labelme/utils/shape.py\", line 71, in shapes_to_label\n",
      "    mask = shape_to_mask(img_shape[:2], points, shape_type)\n",
      "  File \"/home/ankit/Desktop/ml/Tensorflow_ENV/tfenv/lib/python3.9/site-packages/labelme/utils/shape.py\", line 45, in shape_to_mask\n",
      "    assert len(xy) > 2, \"Polygon must have points more than 2\"\n",
      "AssertionError: Polygon must have points more than 2\n"
     ]
    },
    {
     "name": "stdout",
     "output_type": "stream",
     "text": [
      "image: B4.json\n"
     ]
    },
    {
     "name": "stderr",
     "output_type": "stream",
     "text": [
      "Traceback (most recent call last):\n",
      "  File \"/home/ankit/Desktop/ml/Tensorflow_ENV/tfenv/bin/labelme_export_json\", line 8, in <module>\n",
      "    sys.exit(main())\n",
      "  File \"/home/ankit/Desktop/ml/Tensorflow_ENV/tfenv/lib/python3.9/site-packages/labelme/cli/export_json.py\", line 48, in main\n",
      "    lbl, _ = utils.shapes_to_label(img.shape, data[\"shapes\"], label_name_to_value)\n",
      "  File \"/home/ankit/Desktop/ml/Tensorflow_ENV/tfenv/lib/python3.9/site-packages/labelme/utils/shape.py\", line 71, in shapes_to_label\n",
      "    mask = shape_to_mask(img_shape[:2], points, shape_type)\n",
      "  File \"/home/ankit/Desktop/ml/Tensorflow_ENV/tfenv/lib/python3.9/site-packages/labelme/utils/shape.py\", line 45, in shape_to_mask\n",
      "    assert len(xy) > 2, \"Polygon must have points more than 2\"\n",
      "AssertionError: Polygon must have points more than 2\n"
     ]
    },
    {
     "name": "stdout",
     "output_type": "stream",
     "text": [
      "image: B3.json\n"
     ]
    },
    {
     "name": "stderr",
     "output_type": "stream",
     "text": [
      "Traceback (most recent call last):\n",
      "  File \"/home/ankit/Desktop/ml/Tensorflow_ENV/tfenv/bin/labelme_export_json\", line 8, in <module>\n",
      "    sys.exit(main())\n",
      "  File \"/home/ankit/Desktop/ml/Tensorflow_ENV/tfenv/lib/python3.9/site-packages/labelme/cli/export_json.py\", line 48, in main\n",
      "    lbl, _ = utils.shapes_to_label(img.shape, data[\"shapes\"], label_name_to_value)\n",
      "  File \"/home/ankit/Desktop/ml/Tensorflow_ENV/tfenv/lib/python3.9/site-packages/labelme/utils/shape.py\", line 71, in shapes_to_label\n",
      "    mask = shape_to_mask(img_shape[:2], points, shape_type)\n",
      "  File \"/home/ankit/Desktop/ml/Tensorflow_ENV/tfenv/lib/python3.9/site-packages/labelme/utils/shape.py\", line 45, in shape_to_mask\n",
      "    assert len(xy) > 2, \"Polygon must have points more than 2\"\n",
      "AssertionError: Polygon must have points more than 2\n"
     ]
    },
    {
     "name": "stdout",
     "output_type": "stream",
     "text": [
      "image: A3.json\n"
     ]
    },
    {
     "name": "stderr",
     "output_type": "stream",
     "text": [
      "2024-07-22 17:13:29,714 [\u001b[1m\u001b[97mINFO   \u001b[0m] \u001b[36mexport_json\u001b[0m:\u001b[36mmain\u001b[0m:\u001b[36m66\u001b[0m- \u001b[1m\u001b[97mSaved to: temp_images/A3\u001b[0m\n"
     ]
    },
    {
     "name": "stdout",
     "output_type": "stream",
     "text": [
      "image: C1.json\n"
     ]
    },
    {
     "name": "stderr",
     "output_type": "stream",
     "text": [
      "Traceback (most recent call last):\n",
      "  File \"/home/ankit/Desktop/ml/Tensorflow_ENV/tfenv/bin/labelme_export_json\", line 8, in <module>\n",
      "    sys.exit(main())\n",
      "  File \"/home/ankit/Desktop/ml/Tensorflow_ENV/tfenv/lib/python3.9/site-packages/labelme/cli/export_json.py\", line 48, in main\n",
      "    lbl, _ = utils.shapes_to_label(img.shape, data[\"shapes\"], label_name_to_value)\n",
      "  File \"/home/ankit/Desktop/ml/Tensorflow_ENV/tfenv/lib/python3.9/site-packages/labelme/utils/shape.py\", line 71, in shapes_to_label\n",
      "    mask = shape_to_mask(img_shape[:2], points, shape_type)\n",
      "  File \"/home/ankit/Desktop/ml/Tensorflow_ENV/tfenv/lib/python3.9/site-packages/labelme/utils/shape.py\", line 45, in shape_to_mask\n",
      "    assert len(xy) > 2, \"Polygon must have points more than 2\"\n",
      "AssertionError: Polygon must have points more than 2\n"
     ]
    },
    {
     "name": "stdout",
     "output_type": "stream",
     "text": [
      "image: B7.json\n"
     ]
    },
    {
     "name": "stderr",
     "output_type": "stream",
     "text": [
      "Traceback (most recent call last):\n",
      "  File \"/home/ankit/Desktop/ml/Tensorflow_ENV/tfenv/bin/labelme_export_json\", line 8, in <module>\n",
      "    sys.exit(main())\n",
      "  File \"/home/ankit/Desktop/ml/Tensorflow_ENV/tfenv/lib/python3.9/site-packages/labelme/cli/export_json.py\", line 48, in main\n",
      "    lbl, _ = utils.shapes_to_label(img.shape, data[\"shapes\"], label_name_to_value)\n",
      "  File \"/home/ankit/Desktop/ml/Tensorflow_ENV/tfenv/lib/python3.9/site-packages/labelme/utils/shape.py\", line 71, in shapes_to_label\n",
      "    mask = shape_to_mask(img_shape[:2], points, shape_type)\n",
      "  File \"/home/ankit/Desktop/ml/Tensorflow_ENV/tfenv/lib/python3.9/site-packages/labelme/utils/shape.py\", line 45, in shape_to_mask\n",
      "    assert len(xy) > 2, \"Polygon must have points more than 2\"\n",
      "AssertionError: Polygon must have points more than 2\n"
     ]
    },
    {
     "name": "stdout",
     "output_type": "stream",
     "text": [
      "image: 18.json\n"
     ]
    },
    {
     "name": "stderr",
     "output_type": "stream",
     "text": [
      "2024-07-22 17:13:35,528 [\u001b[1m\u001b[97mINFO   \u001b[0m] \u001b[36mexport_json\u001b[0m:\u001b[36mmain\u001b[0m:\u001b[36m66\u001b[0m- \u001b[1m\u001b[97mSaved to: temp_images/18\u001b[0m\n"
     ]
    },
    {
     "name": "stdout",
     "output_type": "stream",
     "text": [
      "image: 300000.0V8100X0001.json\n"
     ]
    },
    {
     "name": "stderr",
     "output_type": "stream",
     "text": [
      "2024-07-22 17:13:56,714 [\u001b[1m\u001b[97mINFO   \u001b[0m] \u001b[36mexport_json\u001b[0m:\u001b[36mmain\u001b[0m:\u001b[36m66\u001b[0m- \u001b[1m\u001b[97mSaved to: temp_images/300000.0V8100X0001\u001b[0m\n"
     ]
    },
    {
     "name": "stdout",
     "output_type": "stream",
     "text": [
      "image: A5.json\n"
     ]
    },
    {
     "name": "stderr",
     "output_type": "stream",
     "text": [
      "2024-07-22 17:13:57,930 [\u001b[1m\u001b[97mINFO   \u001b[0m] \u001b[36mexport_json\u001b[0m:\u001b[36mmain\u001b[0m:\u001b[36m66\u001b[0m- \u001b[1m\u001b[97mSaved to: temp_images/A5\u001b[0m\n"
     ]
    },
    {
     "name": "stdout",
     "output_type": "stream",
     "text": [
      "image: A20.json\n"
     ]
    },
    {
     "name": "stderr",
     "output_type": "stream",
     "text": [
      "Traceback (most recent call last):\n",
      "  File \"/home/ankit/Desktop/ml/Tensorflow_ENV/tfenv/bin/labelme_export_json\", line 8, in <module>\n",
      "    sys.exit(main())\n",
      "  File \"/home/ankit/Desktop/ml/Tensorflow_ENV/tfenv/lib/python3.9/site-packages/labelme/cli/export_json.py\", line 48, in main\n",
      "    lbl, _ = utils.shapes_to_label(img.shape, data[\"shapes\"], label_name_to_value)\n",
      "  File \"/home/ankit/Desktop/ml/Tensorflow_ENV/tfenv/lib/python3.9/site-packages/labelme/utils/shape.py\", line 71, in shapes_to_label\n",
      "    mask = shape_to_mask(img_shape[:2], points, shape_type)\n",
      "  File \"/home/ankit/Desktop/ml/Tensorflow_ENV/tfenv/lib/python3.9/site-packages/labelme/utils/shape.py\", line 45, in shape_to_mask\n",
      "    assert len(xy) > 2, \"Polygon must have points more than 2\"\n",
      "AssertionError: Polygon must have points more than 2\n"
     ]
    },
    {
     "name": "stdout",
     "output_type": "stream",
     "text": [
      "image: C2.json\n"
     ]
    },
    {
     "name": "stderr",
     "output_type": "stream",
     "text": [
      "Traceback (most recent call last):\n",
      "  File \"/home/ankit/Desktop/ml/Tensorflow_ENV/tfenv/bin/labelme_export_json\", line 8, in <module>\n",
      "    sys.exit(main())\n",
      "  File \"/home/ankit/Desktop/ml/Tensorflow_ENV/tfenv/lib/python3.9/site-packages/labelme/cli/export_json.py\", line 48, in main\n",
      "    lbl, _ = utils.shapes_to_label(img.shape, data[\"shapes\"], label_name_to_value)\n",
      "  File \"/home/ankit/Desktop/ml/Tensorflow_ENV/tfenv/lib/python3.9/site-packages/labelme/utils/shape.py\", line 71, in shapes_to_label\n",
      "    mask = shape_to_mask(img_shape[:2], points, shape_type)\n",
      "  File \"/home/ankit/Desktop/ml/Tensorflow_ENV/tfenv/lib/python3.9/site-packages/labelme/utils/shape.py\", line 45, in shape_to_mask\n",
      "    assert len(xy) > 2, \"Polygon must have points more than 2\"\n",
      "AssertionError: Polygon must have points more than 2\n"
     ]
    },
    {
     "name": "stdout",
     "output_type": "stream",
     "text": [
      "image: B19.json\n"
     ]
    },
    {
     "name": "stderr",
     "output_type": "stream",
     "text": [
      "Traceback (most recent call last):\n",
      "  File \"/home/ankit/Desktop/ml/Tensorflow_ENV/tfenv/bin/labelme_export_json\", line 8, in <module>\n",
      "    sys.exit(main())\n",
      "  File \"/home/ankit/Desktop/ml/Tensorflow_ENV/tfenv/lib/python3.9/site-packages/labelme/cli/export_json.py\", line 48, in main\n",
      "    lbl, _ = utils.shapes_to_label(img.shape, data[\"shapes\"], label_name_to_value)\n",
      "  File \"/home/ankit/Desktop/ml/Tensorflow_ENV/tfenv/lib/python3.9/site-packages/labelme/utils/shape.py\", line 71, in shapes_to_label\n",
      "    mask = shape_to_mask(img_shape[:2], points, shape_type)\n",
      "  File \"/home/ankit/Desktop/ml/Tensorflow_ENV/tfenv/lib/python3.9/site-packages/labelme/utils/shape.py\", line 45, in shape_to_mask\n",
      "    assert len(xy) > 2, \"Polygon must have points more than 2\"\n",
      "AssertionError: Polygon must have points more than 2\n"
     ]
    },
    {
     "name": "stdout",
     "output_type": "stream",
     "text": [
      "image: A8.json\n"
     ]
    },
    {
     "name": "stderr",
     "output_type": "stream",
     "text": [
      "Traceback (most recent call last):\n",
      "  File \"/home/ankit/Desktop/ml/Tensorflow_ENV/tfenv/bin/labelme_export_json\", line 8, in <module>\n",
      "    sys.exit(main())\n",
      "  File \"/home/ankit/Desktop/ml/Tensorflow_ENV/tfenv/lib/python3.9/site-packages/labelme/cli/export_json.py\", line 48, in main\n",
      "    lbl, _ = utils.shapes_to_label(img.shape, data[\"shapes\"], label_name_to_value)\n",
      "  File \"/home/ankit/Desktop/ml/Tensorflow_ENV/tfenv/lib/python3.9/site-packages/labelme/utils/shape.py\", line 71, in shapes_to_label\n",
      "    mask = shape_to_mask(img_shape[:2], points, shape_type)\n",
      "  File \"/home/ankit/Desktop/ml/Tensorflow_ENV/tfenv/lib/python3.9/site-packages/labelme/utils/shape.py\", line 45, in shape_to_mask\n",
      "    assert len(xy) > 2, \"Polygon must have points more than 2\"\n",
      "AssertionError: Polygon must have points more than 2\n"
     ]
    },
    {
     "name": "stdout",
     "output_type": "stream",
     "text": [
      "image: 5.json\n"
     ]
    },
    {
     "name": "stderr",
     "output_type": "stream",
     "text": [
      "2024-07-22 17:14:03,618 [\u001b[1m\u001b[97mINFO   \u001b[0m] \u001b[36mexport_json\u001b[0m:\u001b[36mmain\u001b[0m:\u001b[36m66\u001b[0m- \u001b[1m\u001b[97mSaved to: temp_images/5\u001b[0m\n"
     ]
    }
   ],
   "source": [
    "import labelme\n",
    "import os, sys\n",
    "path=os.path.join(os.getcwd(),'AnnotatedImages/')\n",
    "dirs = os.listdir(path)\n",
    "i=0\n",
    "for item in dirs:\n",
    "    if item.endswith(\".json\"):\n",
    "        if os.path.isfile(path+item):\n",
    "            my_dest =\"temp_images/\" + item[:-5]\n",
    "            os.system(\"mkdir \"+my_dest)\n",
    "            print(\"image:\",item)\n",
    "            os.system(\"labelme_export_json \"+path+item+\" -o \"+my_dest)\n",
    "            i=i+1"
   ]
  },
  {
   "cell_type": "code",
   "execution_count": 149,
   "id": "d79ad26b",
   "metadata": {},
   "outputs": [],
   "source": [
    "# #import json\n",
    "# path=os.path.join(os.getcwd(),'AnnotatedImages/')\n",
    "# # Opening JSON file\n",
    "# f = open(path+'B20.json')\n",
    "\n",
    "# # returns JSON object as \n",
    "# # a dictionary\n",
    "# data = json.load(f)\n",
    "# data"
   ]
  },
  {
   "cell_type": "code",
   "execution_count": 150,
   "id": "bbc8a72f",
   "metadata": {},
   "outputs": [],
   "source": [
    "path=os.path.join(os.getcwd(),'temp_images/')\n",
    "def delete_empty_folders(root):\n",
    "\n",
    "    deleted = set()\n",
    "    \n",
    "    for current_dir, subdirs, files in os.walk(root, topdown=False):\n",
    "\n",
    "        still_has_subdirs = False\n",
    "        for subdir in subdirs:\n",
    "            if os.path.join(current_dir, subdir) not in deleted:\n",
    "                still_has_subdirs = True\n",
    "                break\n",
    "    \n",
    "        if not any(files) and not still_has_subdirs:\n",
    "            os.rmdir(current_dir)\n",
    "            deleted.add(current_dir)\n",
    "delete_empty_folders(path)"
   ]
  },
  {
   "cell_type": "code",
   "execution_count": 151,
   "id": "683ef507",
   "metadata": {},
   "outputs": [],
   "source": [
    "dir=path\n",
    "masked_path=os.path.join(os.getcwd(),'masked_images/')\n",
    "original_path=os.path.join(os.getcwd(),'original_images/')\n",
    "def mask_images(dir):\n",
    "    new_masked_image = []\n",
    "    original_image=[]\n",
    "    for root, dirs, files in os.walk(dir):\n",
    "        for name in files:\n",
    "            if name=='label.png':\n",
    "                shutil.move(root+'/'+name,masked_path+str(root).split('/')[-1]+'.png')\n",
    "                new_masked_image.append(os.path.join(root, name))\n",
    "            elif name=='img.png':\n",
    "                shutil.move(root+'/'+name,original_path+str(root).split('/')[-1]+'.png')\n",
    "                original_image.append(os.path.join(root, name))"
   ]
  },
  {
   "cell_type": "code",
   "execution_count": 152,
   "id": "edaf8440",
   "metadata": {},
   "outputs": [],
   "source": [
    "mask_images(path)"
   ]
  },
  {
   "cell_type": "code",
   "execution_count": null,
   "id": "8c46f9f0",
   "metadata": {},
   "outputs": [],
   "source": []
  },
  {
   "cell_type": "code",
   "execution_count": null,
   "id": "8ba8bdd9",
   "metadata": {},
   "outputs": [],
   "source": []
  },
  {
   "cell_type": "code",
   "execution_count": null,
   "id": "a1e93c8d",
   "metadata": {},
   "outputs": [],
   "source": []
  },
  {
   "cell_type": "code",
   "execution_count": null,
   "id": "25939514",
   "metadata": {},
   "outputs": [],
   "source": []
  }
 ],
 "metadata": {
  "kernelspec": {
   "display_name": "Python 3 (ipykernel)",
   "language": "python",
   "name": "python3"
  },
  "language_info": {
   "codemirror_mode": {
    "name": "ipython",
    "version": 3
   },
   "file_extension": ".py",
   "mimetype": "text/x-python",
   "name": "python",
   "nbconvert_exporter": "python",
   "pygments_lexer": "ipython3",
   "version": "3.9.19"
  }
 },
 "nbformat": 4,
 "nbformat_minor": 5
}
