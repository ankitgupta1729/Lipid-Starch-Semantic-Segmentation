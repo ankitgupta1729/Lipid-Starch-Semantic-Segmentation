{
 "cells": [
  {
   "cell_type": "code",
   "execution_count": 13,
   "id": "30a1c16f",
   "metadata": {},
   "outputs": [],
   "source": [
    "import warnings\n",
    "import os\n",
    "import shutil\n",
    "warnings.filterwarnings('ignore')"
   ]
  },
  {
   "cell_type": "code",
   "execution_count": 14,
   "id": "f38aed5a",
   "metadata": {},
   "outputs": [
    {
     "data": {
      "text/plain": [
       "'C:\\\\Users\\\\ankit19.gupta\\\\ankit\\\\ankit\\\\projects\\\\RIL\\\\10_Lipid_Starch_Identification'"
      ]
     },
     "execution_count": 14,
     "metadata": {},
     "output_type": "execute_result"
    }
   ],
   "source": [
    "os.getcwd()"
   ]
  },
  {
   "cell_type": "code",
   "execution_count": 15,
   "id": "990e2668-4382-46cf-b460-d4158ab1194e",
   "metadata": {},
   "outputs": [
    {
     "data": {
      "text/plain": [
       "'C:\\\\Users\\\\ankit19.gupta\\\\ankit\\\\ankit\\\\projects\\\\RIL\\\\10_Lipid_Starch_Identification\\\\temp_images/'"
      ]
     },
     "execution_count": 15,
     "metadata": {},
     "output_type": "execute_result"
    }
   ],
   "source": [
    "path=os.path.join(os.getcwd(),'temp_images/')\n",
    "path"
   ]
  },
  {
   "cell_type": "code",
   "execution_count": 16,
   "id": "d4f658de",
   "metadata": {},
   "outputs": [],
   "source": [
    "path=os.path.join(os.getcwd(),'temp_images/')\n",
    "\n",
    "if os.path.isdir(path):\n",
    "    shutil.rmtree(path)\n",
    "path=os.path.join(os.getcwd(),'masked_images/')\n",
    "if os.path.isdir(path):\n",
    "    shutil.rmtree(path)\n",
    "path=os.path.join(os.getcwd(),'original_images/')\n",
    "if os.path.isdir(path):\n",
    "    shutil.rmtree(path)"
   ]
  },
  {
   "cell_type": "code",
   "execution_count": 17,
   "id": "def4985d",
   "metadata": {},
   "outputs": [],
   "source": [
    "os.makedirs('temp_images')\n",
    "os.makedirs('masked_images')\n",
    "os.makedirs('original_images')"
   ]
  },
  {
   "cell_type": "code",
   "execution_count": 18,
   "id": "f7134cb9",
   "metadata": {},
   "outputs": [
    {
     "name": "stdout",
     "output_type": "stream",
     "text": [
      "image: 1.json\n",
      "image: 10.json\n",
      "image: 11.json\n",
      "image: 12.json\n",
      "image: 13.json\n",
      "image: 14.json\n",
      "image: 15.json\n",
      "image: 17.json\n",
      "image: 18.json\n",
      "image: 19.json\n",
      "image: 2.json\n",
      "image: 20.json\n",
      "image: 22.json\n",
      "image: 300000.0V8100X0001.json\n",
      "image: 4.json\n",
      "image: 5.json\n",
      "image: 6.json\n",
      "image: 7.json\n",
      "image: 8.json\n",
      "image: 9.json\n",
      "image: A1.json\n",
      "image: A16.json\n",
      "image: A17.json\n",
      "image: A18.json\n",
      "image: A19.json\n",
      "image: A2.json\n",
      "image: A20.json\n",
      "image: A3.json\n",
      "image: A4.json\n",
      "image: A5.json\n",
      "image: A6.json\n",
      "image: A7.json\n",
      "image: A8.json\n",
      "image: A9.json\n",
      "image: B1.json\n",
      "image: B10.json\n",
      "image: B15.json\n",
      "image: B16.json\n",
      "image: B17.json\n",
      "image: B18.json\n",
      "image: B19.json\n",
      "image: B20.json\n",
      "image: B3.json\n",
      "image: B4.json\n",
      "image: B5.json\n",
      "image: B6.json\n",
      "image: B7.json\n",
      "image: B9.json\n",
      "image: C1.json\n",
      "image: C2.json\n"
     ]
    }
   ],
   "source": [
    "import labelme\n",
    "import os, sys\n",
    "path=os.path.join(os.getcwd(),'AnnotatedImages/')\n",
    "dirs = os.listdir(path)\n",
    "i=0\n",
    "for item in dirs:\n",
    "    if item.endswith(\".json\"):\n",
    "        if os.path.isfile(path+item):\n",
    "            my_dest =\"temp_images/\" + item[:-5]\n",
    "            os.system(\"mkdir \"+my_dest)\n",
    "            print(\"image:\",item)\n",
    "            os.system(\"labelme_export_json \"+path+item+\" -o \"+my_dest)\n",
    "            i=i+1"
   ]
  },
  {
   "cell_type": "code",
   "execution_count": 19,
   "id": "d79ad26b",
   "metadata": {},
   "outputs": [],
   "source": [
    "# #import json\n",
    "# path=os.path.join(os.getcwd(),'AnnotatedImages/')\n",
    "# # Opening JSON file\n",
    "# f = open(path+'B20.json')\n",
    "\n",
    "# # returns JSON object as \n",
    "# # a dictionary\n",
    "# data = json.load(f)\n",
    "# data"
   ]
  },
  {
   "cell_type": "code",
   "execution_count": 20,
   "id": "bbc8a72f",
   "metadata": {},
   "outputs": [],
   "source": [
    "path=os.path.join(os.getcwd(),'temp_images/')\n",
    "def delete_empty_folders(root):\n",
    "\n",
    "    deleted = set()\n",
    "    \n",
    "    for current_dir, subdirs, files in os.walk(root, topdown=False):\n",
    "\n",
    "        still_has_subdirs = False\n",
    "        for subdir in subdirs:\n",
    "            if os.path.join(current_dir, subdir) not in deleted:\n",
    "                still_has_subdirs = True\n",
    "                break\n",
    "    \n",
    "        if not any(files) and not still_has_subdirs:\n",
    "            os.rmdir(current_dir)\n",
    "            deleted.add(current_dir)\n",
    "delete_empty_folders(path)"
   ]
  },
  {
   "cell_type": "code",
   "execution_count": 21,
   "id": "683ef507",
   "metadata": {},
   "outputs": [],
   "source": [
    "dir=path\n",
    "masked_path=os.path.join(os.getcwd(),'masked_images/')\n",
    "original_path=os.path.join(os.getcwd(),'original_images/')\n",
    "def mask_images(dir):\n",
    "    new_masked_image = []\n",
    "    original_image=[]\n",
    "    for root, dirs, files in os.walk(dir):\n",
    "        for name in files:\n",
    "            if name=='label.png':\n",
    "                shutil.move(root+'/'+name,masked_path+str(root).split('/')[-1]+'.png')\n",
    "                new_masked_image.append(os.path.join(root, name))\n",
    "            elif name=='img.png':\n",
    "                shutil.move(root+'/'+name,original_path+str(root).split('/')[-1]+'.png')\n",
    "                original_image.append(os.path.join(root, name))"
   ]
  },
  {
   "cell_type": "code",
   "execution_count": 22,
   "id": "edaf8440",
   "metadata": {},
   "outputs": [],
   "source": [
    "mask_images(path)"
   ]
  },
  {
   "cell_type": "code",
   "execution_count": null,
   "id": "8c46f9f0",
   "metadata": {},
   "outputs": [],
   "source": []
  },
  {
   "cell_type": "code",
   "execution_count": null,
   "id": "8ba8bdd9",
   "metadata": {},
   "outputs": [],
   "source": []
  },
  {
   "cell_type": "code",
   "execution_count": null,
   "id": "a1e93c8d",
   "metadata": {},
   "outputs": [],
   "source": []
  },
  {
   "cell_type": "code",
   "execution_count": null,
   "id": "25939514",
   "metadata": {},
   "outputs": [],
   "source": []
  },
  {
   "cell_type": "code",
   "execution_count": null,
   "id": "d12875c0-335d-4272-a466-229e073bdea7",
   "metadata": {},
   "outputs": [],
   "source": []
  }
 ],
 "metadata": {
  "kernelspec": {
   "display_name": "Python 3 (ipykernel)",
   "language": "python",
   "name": "python3"
  },
  "language_info": {
   "codemirror_mode": {
    "name": "ipython",
    "version": 3
   },
   "file_extension": ".py",
   "mimetype": "text/x-python",
   "name": "python",
   "nbconvert_exporter": "python",
   "pygments_lexer": "ipython3",
   "version": "3.9.19"
  }
 },
 "nbformat": 4,
 "nbformat_minor": 5
}
