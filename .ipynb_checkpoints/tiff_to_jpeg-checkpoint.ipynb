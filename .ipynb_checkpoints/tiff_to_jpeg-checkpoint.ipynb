{
 "cells": [
  {
   "cell_type": "code",
   "execution_count": 1,
   "id": "6e40de87",
   "metadata": {},
   "outputs": [],
   "source": [
    "import os, sys\n",
    "from PIL import Image"
   ]
  },
  {
   "cell_type": "code",
   "execution_count": null,
   "id": "f1f1ba60",
   "metadata": {},
   "outputs": [],
   "source": [
    "path=\".//SIDCTSTMATSTUD1/RnD_Polymer/ComputerVision_Analytical/Algae TEM Images/601.\""
   ]
  },
  {
   "cell_type": "code",
   "execution_count": 4,
   "id": "3fc6fad2",
   "metadata": {},
   "outputs": [],
   "source": [
    "def tiff_to_jpeg():\n",
    "    for infile in os.listdir(os.getcwd()+\"/sample\"):\n",
    "        print(\"file name: \" + infile)\n",
    "        if infile[-4:] == \"tiff\":\n",
    "            outfile = infile[:-4] + \"jpeg\"\n",
    "            img = Image.open(os.getcwd()+\"/sample/\"+infile)\n",
    "            print(\"new filename : \" + outfile)\n",
    "            out = img.convert(\"RGB\")\n",
    "            out.save(os.getcwd()+\"/out/\"+outfile, \"JPEG\", quality=90)\n",
    "        if infile[-3:] == \"tif\":\n",
    "            outfile = infile[:-3] + \"jpeg\"\n",
    "            img = Image.open(os.getcwd()+\"/sample/\"+infile)\n",
    "            print(\"new filename : \" + outfile)\n",
    "            out = img.convert(\"RGB\")\n",
    "            out.save(os.getcwd()+\"/out/\"+outfile, \"JPEG\", quality=90)"
   ]
  },
  {
   "cell_type": "code",
   "execution_count": 5,
   "id": "10274b40",
   "metadata": {},
   "outputs": [
    {
     "name": "stdout",
     "output_type": "stream",
     "text": [
      "file name: dwsample-tiff-640.tif\n",
      "new filename : dwsample-tiff-640.jpeg\n",
      "file name: file_example_TIFF_10MB.tiff\n",
      "new filename : file_example_TIFF_10MB.jpeg\n",
      "file name: sample_5184×3456.tiff\n",
      "new filename : sample_5184×3456.jpeg\n"
     ]
    }
   ],
   "source": [
    "tiff_to_jpeg()"
   ]
  },
  {
   "cell_type": "code",
   "execution_count": null,
   "id": "1a366242",
   "metadata": {},
   "outputs": [],
   "source": []
  }
 ],
 "metadata": {
  "kernelspec": {
   "display_name": "Python 3 (ipykernel)",
   "language": "python",
   "name": "python3"
  },
  "language_info": {
   "codemirror_mode": {
    "name": "ipython",
    "version": 3
   },
   "file_extension": ".py",
   "mimetype": "text/x-python",
   "name": "python",
   "nbconvert_exporter": "python",
   "pygments_lexer": "ipython3",
   "version": "3.6.13"
  }
 },
 "nbformat": 4,
 "nbformat_minor": 5
}
